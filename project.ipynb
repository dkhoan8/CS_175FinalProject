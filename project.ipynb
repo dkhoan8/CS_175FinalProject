{
 "cells": [
  {
   "cell_type": "code",
   "execution_count": 1,
   "metadata": {
    "scrolled": false
   },
   "outputs": [],
   "source": [
    "import sys\n",
    "import os\n",
    "import numpy as np\n",
    "import tensorflow as tf\n",
    "import matplotlib.pyplot as plt\n",
    "import matplotlib.image as mpimg\n",
    "import matplotlib\n",
    "matplotlib.use('Agg')\n",
    "\n",
    "from Model import classification_head\n",
    "from numpy import array\n",
    "from PIL import ImageOps, Image\n",
    "\n",
    "WEIGHTS_FILE = \"classifier.ckpt\"\n",
    "SIZE = (32,32)\n",
    "\n",
    "def detect_single(img_path, saved_model_weights,sess):\n",
    "    X = tf.placeholder(tf.float32, shape=(1, 32, 32, 3))\n",
    "    prediction = tf.nn.softmax(classification_head(X))\n",
    "\n",
    "    temp = np.array(img_path)\n",
    "    reCol = (255-temp)*1.0/255.0\n",
    "    expanding = np.expand_dims(reCol, axis=0)\n",
    "\n",
    "    feed_dat = {X: expanding}\n",
    "    predictions = sess.run(prediction, feed_dict=feed_dat)\n",
    "\n",
    "    return np.argmax(predictions), temp"
   ]
  },
  {
   "cell_type": "code",
   "execution_count": 2,
   "metadata": {
    "scrolled": true
   },
   "outputs": [
    {
     "name": "stdout",
     "output_type": "stream",
     "text": [
      "Populating the interactive namespace from numpy and matplotlib\n",
      "INFO:tensorflow:Restoring parameters from classifier.ckpt\n"
     ]
    }
   ],
   "source": [
    "%pylab inline\n",
    "import matplotlib.pyplot as plt\n",
    "import matplotlib.image as mpimg\n",
    "from PIL import Image\n",
    "import glob\n",
    "\n",
    "image_list = []\n",
    "saved_model_weights = WEIGHTS_FILE\n",
    "saver = tf.train.Saver()\n",
    "with tf.Session() as sess:\n",
    "    saver.restore(sess, saved_model_weights)\n",
    "    for filename in glob.glob('Single_Digit_Test/*.png'):\n",
    "        print(\"==================================================================================================\")\n",
    "        print(\"==================================================================================================\")\n",
    "        im=Image.open(filename)\n",
    "        image_list.append(im)\n",
    "        im = im.resize(SIZE, Image.ANTIALIAS)\n",
    "        \n",
    "        quality_val = 90\n",
    "        im.save(filename, 'PNG', quality=quality_val)\n",
    "        \n",
    "        prediction, test_img = detect_single(im, saved_model_weights,sess)\n",
    "        plt.figure()\n",
    "        imgplot = plt.imshow(test_img)\n",
    "        plt.show()\n",
    "        print(\"BEST PREDICTION IS:\", prediction)\n",
    "        print(\"==================================================================================================\")\n",
    "        print(\"==================================================================================================\")"
   ]
  },
  {
   "cell_type": "code",
   "execution_count": 3,
   "metadata": {},
   "outputs": [],
   "source": [
    "import matplotlib\n",
    "matplotlib.use('Agg')\n",
    "\n",
    "import sys\n",
    "import os\n",
    "import numpy as np\n",
    "import tensorflow as tf\n",
    "import PIL.Image as Image\n",
    "import matplotlib.pyplot as plt\n",
    "import time\n",
    "\n",
    "from Model import regression_head\n",
    "from Data_harvest import load_local_svhn_data\n",
    "from PIL import ImageOps, Image\n",
    "from tensorflow.python.saved_model import tag_constants\n",
    "from six.moves import cPickle as pickle\n",
    "from six.moves import range\n",
    "\n",
    "WEIGHTS_FILE = \"regression.ckpt\"\n",
    "SIZE = (64,64)\n",
    "\n",
    "def formatNum(pred_array):\n",
    "    pred_str = \"\"\n",
    "    for i in range(len(pred_array)):\n",
    "        if pred_array[i] != 10:\n",
    "            pred_str += str(pred_array[i])\n",
    "        else:\n",
    "            return pred_str\n",
    "    return pred_str\n",
    "\n",
    "\n",
    "def detect_multi(img_path, saved_model_weights ,session):\n",
    "\n",
    "    print(\"-------------------Attemped resize img------------------------------\")    \n",
    "    fit_and_resized_image = ImageOps.fit(img_path, SIZE, Image.ANTIALIAS)\n",
    "    temp = np.array(fit_and_resized_image)\n",
    "    normalize = (255-temp)*1.0/255.0\n",
    "    expanding = np.expand_dims(normalize, axis=0)\n",
    "\n",
    "    X = tf.placeholder(tf.float32, shape=(1, 64, 64, 3))\n",
    "    [logits_1, logits_2, logits_3, logits_4, logits_5] = regression_head(X)\n",
    "\n",
    "    predict = tf.stack([tf.nn.softmax(logits_1),\n",
    "                      tf.nn.softmax(logits_2),\n",
    "                      tf.nn.softmax(logits_3),\n",
    "                      tf.nn.softmax(logits_4),\n",
    "                      tf.nn.softmax(logits_5)])\n",
    "\n",
    "    best_prediction = tf.transpose(tf.argmax(predict, 2))\n",
    "    feed_data = {X: expanding}\n",
    "    start_time = time.time()\n",
    "    predictions = session.run(best_prediction, feed_dict=feed_data)\n",
    "    pred = formatNum(predictions[0])\n",
    "    end_time = time.time()\n",
    "    return pred, temp"
   ]
  },
  {
   "cell_type": "code",
   "execution_count": 4,
   "metadata": {
    "scrolled": true
   },
   "outputs": [
    {
     "name": "stdout",
     "output_type": "stream",
     "text": [
      "Populating the interactive namespace from numpy and matplotlib\n",
      "INFO:tensorflow:Restoring parameters from regression.ckpt\n"
     ]
    }
   ],
   "source": [
    "%pylab inline\n",
    "import matplotlib.pyplot as plt\n",
    "import matplotlib.image as mpimg\n",
    "from PIL import Image\n",
    "import glob\n",
    "\n",
    "WEIGHT_FILE = \"regression.ckpt\"\n",
    "image_list = []\n",
    "saved_model_weights = WEIGHTS_FILE\n",
    "\n",
    "saver = tf.train.Saver()\n",
    "with tf.Session() as session:\n",
    "    saver.restore(session, \"regression.ckpt\")\n",
    "    for filename in glob.glob('Multi_Digit_Test/*.png'):\n",
    "        print(\"==================================================================================================\")\n",
    "        print(\"==================================================================================================\")\n",
    "        im=Image.open(filename)\n",
    "        image_list.append(im)\n",
    "        prediction, test_img = detect_multi(im, saved_model_weights,session)\n",
    "        plt.figure()\n",
    "        imgplot = plt.imshow(test_img)\n",
    "        plt.show()\n",
    "        print(\"BEST PREDICTION IS:\", prediction)\n",
    "        print(\"==================================================================================================\")\n",
    "        print(\"==================================================================================================\")"
   ]
  },
  {
   "cell_type": "code",
   "execution_count": null,
   "metadata": {},
   "outputs": [],
   "source": []
  }
 ],
 "metadata": {
  "kernelspec": {
   "display_name": "Python 3",
   "language": "python",
   "name": "python3"
  },
  "language_info": {
   "codemirror_mode": {
    "name": "ipython",
    "version": 3
   },
   "file_extension": ".py",
   "mimetype": "text/x-python",
   "name": "python",
   "nbconvert_exporter": "python",
   "pygments_lexer": "ipython3",
   "version": "3.6.6"
  }
 },
 "nbformat": 4,
 "nbformat_minor": 2
}
